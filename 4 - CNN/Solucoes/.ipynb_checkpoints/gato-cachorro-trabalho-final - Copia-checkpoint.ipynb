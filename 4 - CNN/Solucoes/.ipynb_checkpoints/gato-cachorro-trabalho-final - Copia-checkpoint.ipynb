{
 "cells": [
  {
   "cell_type": "code",
   "execution_count": 1,
   "metadata": {},
   "outputs": [
    {
     "name": "stdout",
     "output_type": "stream",
     "text": [
      "Collecting keras\n",
      "  Downloading Keras-2.4.3-py2.py3-none-any.whl (36 kB)\n",
      "Requirement already satisfied: numpy>=1.9.1 in c:\\users\\joaos\\anaconda3\\lib\\site-packages (from keras) (1.20.1)\n",
      "Requirement already satisfied: h5py in c:\\users\\joaos\\anaconda3\\lib\\site-packages (from keras) (2.10.0)\n",
      "Requirement already satisfied: scipy>=0.14 in c:\\users\\joaos\\anaconda3\\lib\\site-packages (from keras) (1.6.2)\n",
      "Requirement already satisfied: pyyaml in c:\\users\\joaos\\anaconda3\\lib\\site-packages (from keras) (5.4.1)\n",
      "Requirement already satisfied: six in c:\\users\\joaos\\anaconda3\\lib\\site-packages (from h5py->keras) (1.15.0)\n",
      "Installing collected packages: keras\n",
      "Successfully installed keras-2.4.3\n"
     ]
    }
   ],
   "source": [
    "#!pip3 install keras"
   ]
  },
  {
   "cell_type": "code",
   "execution_count": 3,
   "metadata": {},
   "outputs": [
    {
     "name": "stdout",
     "output_type": "stream",
     "text": [
      "Collecting tensorflow\n",
      "  Downloading tensorflow-2.5.0-cp38-cp38-win_amd64.whl (422.6 MB)\n",
      "Requirement already satisfied: typing-extensions~=3.7.4 in c:\\users\\joaos\\anaconda3\\lib\\site-packages (from tensorflow) (3.7.4.3)\n",
      "Collecting grpcio~=1.34.0\n",
      "  Downloading grpcio-1.34.1-cp38-cp38-win_amd64.whl (2.9 MB)\n",
      "Collecting absl-py~=0.10\n",
      "  Downloading absl_py-0.13.0-py3-none-any.whl (132 kB)\n",
      "Collecting astunparse~=1.6.3\n",
      "  Downloading astunparse-1.6.3-py2.py3-none-any.whl (12 kB)\n",
      "Requirement already satisfied: wrapt~=1.12.1 in c:\\users\\joaos\\anaconda3\\lib\\site-packages (from tensorflow) (1.12.1)\n",
      "Collecting protobuf>=3.9.2\n",
      "  Downloading protobuf-3.17.3-cp38-cp38-win_amd64.whl (909 kB)\n",
      "Collecting gast==0.4.0\n",
      "  Downloading gast-0.4.0-py3-none-any.whl (9.8 kB)\n",
      "Collecting keras-nightly~=2.5.0.dev\n",
      "  Downloading keras_nightly-2.5.0.dev2021032900-py2.py3-none-any.whl (1.2 MB)\n",
      "Collecting flatbuffers~=1.12.0\n",
      "  Downloading flatbuffers-1.12-py2.py3-none-any.whl (15 kB)\n",
      "Collecting h5py~=3.1.0\n",
      "  Downloading h5py-3.1.0-cp38-cp38-win_amd64.whl (2.7 MB)\n",
      "Collecting tensorboard~=2.5\n",
      "  Downloading tensorboard-2.5.0-py3-none-any.whl (6.0 MB)\n",
      "Collecting termcolor~=1.1.0\n",
      "  Downloading termcolor-1.1.0.tar.gz (3.9 kB)\n",
      "Collecting opt-einsum~=3.3.0\n",
      "  Downloading opt_einsum-3.3.0-py3-none-any.whl (65 kB)\n",
      "Collecting numpy~=1.19.2\n",
      "  Downloading numpy-1.19.5-cp38-cp38-win_amd64.whl (13.3 MB)\n",
      "Collecting tensorflow-estimator<2.6.0,>=2.5.0rc0\n",
      "  Downloading tensorflow_estimator-2.5.0-py2.py3-none-any.whl (462 kB)\n",
      "Collecting keras-preprocessing~=1.1.2\n",
      "  Downloading Keras_Preprocessing-1.1.2-py2.py3-none-any.whl (42 kB)\n",
      "Collecting google-pasta~=0.2\n",
      "  Downloading google_pasta-0.2.0-py3-none-any.whl (57 kB)\n",
      "Requirement already satisfied: six~=1.15.0 in c:\\users\\joaos\\anaconda3\\lib\\site-packages (from tensorflow) (1.15.0)\n",
      "Requirement already satisfied: wheel~=0.35 in c:\\users\\joaos\\anaconda3\\lib\\site-packages (from tensorflow) (0.36.2)\n",
      "Collecting tensorboard-plugin-wit>=1.6.0\n",
      "  Downloading tensorboard_plugin_wit-1.8.0-py3-none-any.whl (781 kB)\n",
      "Requirement already satisfied: werkzeug>=0.11.15 in c:\\users\\joaos\\anaconda3\\lib\\site-packages (from tensorboard~=2.5->tensorflow) (1.0.1)\n",
      "Collecting google-auth-oauthlib<0.5,>=0.4.1\n",
      "  Downloading google_auth_oauthlib-0.4.4-py2.py3-none-any.whl (18 kB)\n",
      "Collecting markdown>=2.6.8\n",
      "  Downloading Markdown-3.3.4-py3-none-any.whl (97 kB)\n",
      "Requirement already satisfied: requests<3,>=2.21.0 in c:\\users\\joaos\\anaconda3\\lib\\site-packages (from tensorboard~=2.5->tensorflow) (2.25.1)\n",
      "Requirement already satisfied: setuptools>=41.0.0 in c:\\users\\joaos\\anaconda3\\lib\\site-packages (from tensorboard~=2.5->tensorflow) (52.0.0.post20210125)\n",
      "Collecting tensorboard-data-server<0.7.0,>=0.6.0\n",
      "  Downloading tensorboard_data_server-0.6.1-py3-none-any.whl (2.4 kB)\n",
      "Collecting google-auth<2,>=1.6.3\n",
      "  Downloading google_auth-1.33.1-py2.py3-none-any.whl (152 kB)\n",
      "Collecting pyasn1-modules>=0.2.1\n",
      "  Downloading pyasn1_modules-0.2.8-py2.py3-none-any.whl (155 kB)\n",
      "Collecting cachetools<5.0,>=2.0.0\n",
      "  Downloading cachetools-4.2.2-py3-none-any.whl (11 kB)\n",
      "Collecting rsa<5,>=3.1.4\n",
      "  Downloading rsa-4.7.2-py3-none-any.whl (34 kB)\n",
      "Collecting requests-oauthlib>=0.7.0\n",
      "  Downloading requests_oauthlib-1.3.0-py2.py3-none-any.whl (23 kB)\n",
      "Collecting pyasn1<0.5.0,>=0.4.6\n",
      "  Downloading pyasn1-0.4.8-py2.py3-none-any.whl (77 kB)\n",
      "Requirement already satisfied: idna<3,>=2.5 in c:\\users\\joaos\\anaconda3\\lib\\site-packages (from requests<3,>=2.21.0->tensorboard~=2.5->tensorflow) (2.10)\n",
      "Requirement already satisfied: certifi>=2017.4.17 in c:\\users\\joaos\\anaconda3\\lib\\site-packages (from requests<3,>=2.21.0->tensorboard~=2.5->tensorflow) (2020.12.5)\n",
      "Requirement already satisfied: urllib3<1.27,>=1.21.1 in c:\\users\\joaos\\anaconda3\\lib\\site-packages (from requests<3,>=2.21.0->tensorboard~=2.5->tensorflow) (1.26.4)\n",
      "Requirement already satisfied: chardet<5,>=3.0.2 in c:\\users\\joaos\\anaconda3\\lib\\site-packages (from requests<3,>=2.21.0->tensorboard~=2.5->tensorflow) (4.0.0)\n",
      "Collecting oauthlib>=3.0.0\n",
      "  Downloading oauthlib-3.1.1-py2.py3-none-any.whl (146 kB)\n",
      "Building wheels for collected packages: termcolor\n",
      "  Building wheel for termcolor (setup.py): started\n",
      "  Building wheel for termcolor (setup.py): finished with status 'done'\n",
      "  Created wheel for termcolor: filename=termcolor-1.1.0-py3-none-any.whl size=4829 sha256=1435bd5c7e7f710af7096cf00d46bb78178b7de6bbd17103bd0470963abc6f12\n",
      "  Stored in directory: c:\\users\\joaos\\appdata\\local\\pip\\cache\\wheels\\a0\\16\\9c\\5473df82468f958445479c59e784896fa24f4a5fc024b0f501\n",
      "Successfully built termcolor\n",
      "Installing collected packages: pyasn1, rsa, pyasn1-modules, oauthlib, cachetools, requests-oauthlib, google-auth, tensorboard-plugin-wit, tensorboard-data-server, protobuf, numpy, markdown, grpcio, google-auth-oauthlib, absl-py, termcolor, tensorflow-estimator, tensorboard, opt-einsum, keras-preprocessing, keras-nightly, h5py, google-pasta, gast, flatbuffers, astunparse, tensorflow\n",
      "  Attempting uninstall: numpy\n",
      "    Found existing installation: numpy 1.20.1\n",
      "    Uninstalling numpy-1.20.1:\n",
      "      Successfully uninstalled numpy-1.20.1\n",
      "  Attempting uninstall: h5py\n",
      "    Found existing installation: h5py 2.10.0\n",
      "    Uninstalling h5py-2.10.0:\n",
      "      Successfully uninstalled h5py-2.10.0\n",
      "Successfully installed absl-py-0.13.0 astunparse-1.6.3 cachetools-4.2.2 flatbuffers-1.12 gast-0.4.0 google-auth-1.33.1 google-auth-oauthlib-0.4.4 google-pasta-0.2.0 grpcio-1.34.1 h5py-3.1.0 keras-nightly-2.5.0.dev2021032900 keras-preprocessing-1.1.2 markdown-3.3.4 numpy-1.19.5 oauthlib-3.1.1 opt-einsum-3.3.0 protobuf-3.17.3 pyasn1-0.4.8 pyasn1-modules-0.2.8 requests-oauthlib-1.3.0 rsa-4.7.2 tensorboard-2.5.0 tensorboard-data-server-0.6.1 tensorboard-plugin-wit-1.8.0 tensorflow-2.5.0 tensorflow-estimator-2.5.0 termcolor-1.1.0\n"
     ]
    }
   ],
   "source": [
    "#!pip3 install tensorflow"
   ]
  },
  {
   "cell_type": "code",
   "execution_count": 1,
   "metadata": {},
   "outputs": [],
   "source": [
    "from keras.models import Sequential\n",
    "from keras.layers import Conv2D, MaxPooling2D, Flatten, Dense, Dropout\n",
    "from keras.layers.normalization import BatchNormalization\n",
    "from keras.preprocessing.image import ImageDataGenerator\n",
    "import numpy as np\n",
    "from keras.preprocessing import image"
   ]
  },
  {
   "cell_type": "code",
   "execution_count": 171,
   "metadata": {},
   "outputs": [
    {
     "name": "stdout",
     "output_type": "stream",
     "text": [
      "Found 4000 images belonging to 2 classes.\n",
      "Found 1000 images belonging to 2 classes.\n",
      "Epoch 1/10\n",
      "266/266 [==============================] - 232s 859ms/step - loss: 1.0146 - accuracy: 0.5731 - val_loss: 0.8638 - val_accuracy: 0.5727\n",
      "Epoch 2/10\n",
      "266/266 [==============================] - 202s 757ms/step - loss: 0.7049 - accuracy: 0.6310 - val_loss: 0.5903 - val_accuracy: 0.6949\n",
      "Epoch 3/10\n",
      "266/266 [==============================] - 201s 754ms/step - loss: 0.6360 - accuracy: 0.6666 - val_loss: 0.5637 - val_accuracy: 0.7111\n",
      "Epoch 4/10\n",
      "266/266 [==============================] - 210s 788ms/step - loss: 0.5880 - accuracy: 0.6916 - val_loss: 0.5974 - val_accuracy: 0.6929\n",
      "Epoch 5/10\n",
      "266/266 [==============================] - 206s 773ms/step - loss: 0.5474 - accuracy: 0.7213 - val_loss: 0.8062 - val_accuracy: 0.6111\n",
      "Epoch 6/10\n",
      "266/266 [==============================] - 205s 770ms/step - loss: 0.5447 - accuracy: 0.7177 - val_loss: 0.9275 - val_accuracy: 0.5687\n",
      "Epoch 7/10\n",
      "266/266 [==============================] - 210s 790ms/step - loss: 0.5306 - accuracy: 0.7261 - val_loss: 0.5289 - val_accuracy: 0.7525\n",
      "Epoch 8/10\n",
      "266/266 [==============================] - 210s 790ms/step - loss: 0.4956 - accuracy: 0.7602 - val_loss: 0.5822 - val_accuracy: 0.7364\n",
      "Epoch 9/10\n",
      "266/266 [==============================] - 214s 805ms/step - loss: 0.4645 - accuracy: 0.7722 - val_loss: 0.6151 - val_accuracy: 0.6990\n",
      "Epoch 10/10\n",
      "266/266 [==============================] - 192s 721ms/step - loss: 0.5227 - accuracy: 0.7404 - val_loss: 0.5491 - val_accuracy: 0.7404\n"
     ]
    },
    {
     "data": {
      "text/plain": [
       "<keras.callbacks.History at 0x15d0d4c2fa0>"
      ]
     },
     "execution_count": 171,
     "metadata": {},
     "output_type": "execute_result"
    }
   ],
   "source": [
    "IMAGE_WIDTH=128\n",
    "IMAGE_HEIGHT=128\n",
    "IMAGE_SIZE=(IMAGE_WIDTH, IMAGE_HEIGHT)\n",
    "\n",
    "classificador = Sequential()\n",
    "classificador.add(Conv2D(32, (3, 3), activation='relu', kernel_initializer='he_uniform',\n",
    "                padding='same', input_shape=(IMAGE_WIDTH, IMAGE_HEIGHT, 3)))\n",
    "\n",
    "classificador.add(BatchNormalization())\n",
    "classificador.add(MaxPooling2D(pool_size=(3, 3)))\n",
    "classificador.add(Dropout(0.25))\n",
    "\n",
    "classificador.add(Conv2D(64, (3, 3), activation='relu'))\n",
    "classificador.add(BatchNormalization())\n",
    "classificador.add(MaxPooling2D(pool_size=(3, 3)))\n",
    "classificador.add(Dropout(0.25))\n",
    "\n",
    "classificador.add(Conv2D(128, (3, 3), activation='relu'))\n",
    "classificador.add(BatchNormalization())\n",
    "classificador.add(MaxPooling2D(pool_size=(3, 2)))\n",
    "classificador.add(Dropout(0.25))\n",
    "\n",
    "\n",
    "classificador.add(Flatten())\n",
    "classificador.add(Dense(512, activation='relu'))\n",
    "classificador.add(BatchNormalization())\n",
    "classificador.add(Dropout(0.5))\n",
    "classificador.add(Dense(1, activation='sigmoid'))\n",
    "\n",
    "classificador.compile(optimizer = 'adam', loss = 'binary_crossentropy',\n",
    "                      metrics = ['accuracy'])\n",
    "\n",
    "gerador_treinamento = ImageDataGenerator(rescale = 1./255,\n",
    "                                         rotation_range = 7,\n",
    "                                         horizontal_flip = True,\n",
    "                                         shear_range = 0.2,\n",
    "                                         height_shift_range = 0.07,\n",
    "                                         zoom_range = 0.2)\n",
    "gerador_teste = ImageDataGenerator(rescale = 1./255)\n",
    "\n",
    "meu_batch_size = 15\n",
    "total_treino = 4000\n",
    "total_teste = 1000\n",
    "\n",
    "base_treinamento = gerador_treinamento.flow_from_directory('dataset/training_set',\n",
    "                                                           target_size = IMAGE_SIZE,\n",
    "                                                           batch_size = meu_batch_size,\n",
    "                                                           class_mode = 'binary')\n",
    "base_teste = gerador_teste.flow_from_directory('dataset/test_set',\n",
    "                                               target_size = IMAGE_SIZE,\n",
    "                                               batch_size = meu_batch_size,\n",
    "                                               class_mode = 'binary')\n",
    "classificador.fit_generator(base_treinamento, steps_per_epoch = total_treino//meu_batch_size,\n",
    "                            epochs = 10, validation_data = base_teste,\n",
    "                            validation_steps = total_teste//meu_batch_size)"
   ]
  },
  {
   "cell_type": "code",
   "execution_count": 176,
   "metadata": {},
   "outputs": [
    {
     "name": "stdout",
     "output_type": "stream",
     "text": [
      "Model: \"sequential_24\"\n",
      "_________________________________________________________________\n",
      "Layer (type)                 Output Shape              Param #   \n",
      "=================================================================\n",
      "conv2d_72 (Conv2D)           (None, 128, 128, 32)      896       \n",
      "_________________________________________________________________\n",
      "batch_normalization_110 (Bat (None, 128, 128, 32)      128       \n",
      "_________________________________________________________________\n",
      "max_pooling2d_72 (MaxPooling (None, 64, 64, 32)        0         \n",
      "_________________________________________________________________\n",
      "dropout_110 (Dropout)        (None, 64, 64, 32)        0         \n",
      "_________________________________________________________________\n",
      "conv2d_73 (Conv2D)           (None, 62, 62, 64)        18496     \n",
      "_________________________________________________________________\n",
      "batch_normalization_111 (Bat (None, 62, 62, 64)        256       \n",
      "_________________________________________________________________\n",
      "max_pooling2d_73 (MaxPooling (None, 31, 31, 64)        0         \n",
      "_________________________________________________________________\n",
      "dropout_111 (Dropout)        (None, 31, 31, 64)        0         \n",
      "_________________________________________________________________\n",
      "conv2d_74 (Conv2D)           (None, 29, 29, 128)       73856     \n",
      "_________________________________________________________________\n",
      "batch_normalization_112 (Bat (None, 29, 29, 128)       512       \n",
      "_________________________________________________________________\n",
      "max_pooling2d_74 (MaxPooling (None, 14, 14, 128)       0         \n",
      "_________________________________________________________________\n",
      "dropout_112 (Dropout)        (None, 14, 14, 128)       0         \n",
      "_________________________________________________________________\n",
      "flatten_24 (Flatten)         (None, 25088)             0         \n",
      "_________________________________________________________________\n",
      "dense_62 (Dense)             (None, 512)               12845568  \n",
      "_________________________________________________________________\n",
      "batch_normalization_113 (Bat (None, 512)               2048      \n",
      "_________________________________________________________________\n",
      "dropout_113 (Dropout)        (None, 512)               0         \n",
      "_________________________________________________________________\n",
      "dense_63 (Dense)             (None, 1)                 513       \n",
      "=================================================================\n",
      "Total params: 12,942,273\n",
      "Trainable params: 12,940,801\n",
      "Non-trainable params: 1,472\n",
      "_________________________________________________________________\n"
     ]
    }
   ],
   "source": [
    "classificador.summary()"
   ]
  },
  {
   "cell_type": "code",
   "execution_count": 180,
   "metadata": {},
   "outputs": [
    {
     "data": {
      "text/plain": [
       "{'cachorro': 0, 'gato': 1}"
      ]
     },
     "execution_count": 180,
     "metadata": {},
     "output_type": "execute_result"
    }
   ],
   "source": [
    "base_treinamento.class_indices"
   ]
  },
  {
   "cell_type": "code",
   "execution_count": null,
   "metadata": {},
   "outputs": [],
   "source": [
    "#VALIDAÇÃO DO MODELO FINAL"
   ]
  },
  {
   "cell_type": "code",
   "execution_count": 178,
   "metadata": {},
   "outputs": [
    {
     "name": "stdout",
     "output_type": "stream",
     "text": [
      ">>> É cachorro, img1\n",
      ">>> É cachorro, img2\n",
      ">>> É gato, img3\n",
      ">>> É cachorro, img4\n",
      ">>> É cachorro, img5\n",
      ">>> É cachorro, img6\n",
      ">>> É cachorro, img7\n",
      ">>> É cachorro, img8\n",
      ">>> É cachorro, img9\n",
      ">>> É cachorro, img10\n",
      ">>> É cachorro, img11\n",
      ">>> É cachorro, img12\n",
      ">>> É cachorro, img13\n",
      ">>> É cachorro, img14\n",
      ">>> É cachorro, img15\n",
      ">>> É cachorro, img16\n",
      ">>> É cachorro, img17\n",
      ">>> É cachorro, img18\n",
      ">>> É cachorro, img19\n",
      "=== Errou: 1\n"
     ]
    }
   ],
   "source": [
    "print(\"CACHORROS\")\n",
    "numImg = 1\n",
    "errou = 0\n",
    "\n",
    "for x in range(1, 20, 1):\n",
    "\n",
    "    string = str(numImg)\n",
    "    \n",
    "    caminhoImg = \"dataset/teste-final/cachorro/\" + string + \".jpg\"\n",
    "    imagem_teste = image.load_img(caminhoImg, target_size = IMAGE_SIZE)\n",
    "\n",
    "    imagem_teste = image.img_to_array(imagem_teste)\n",
    "    imagem_teste /= 255\n",
    "    imagem_teste = np.expand_dims(imagem_teste, axis = 0)\n",
    "    previsao = classificador.predict(imagem_teste)\n",
    "    previsao = (previsao > 0.5)\n",
    "    \n",
    "    if(previsao[0,0]):\n",
    "        print(\">>> É gato, img\" + string)\n",
    "        errou = errou+1\n",
    "    else:\n",
    "        print(\">>> É cachorro, img\" + string)\n",
    "        \n",
    "    numImg = numImg+1\n",
    "print(\"=== Errou: \" + str(errou))"
   ]
  },
  {
   "cell_type": "code",
   "execution_count": 179,
   "metadata": {},
   "outputs": [
    {
     "name": "stdout",
     "output_type": "stream",
     "text": [
      ">>> É gato, img1\n",
      ">>> É gato, img2\n",
      ">>> É gato, img3\n",
      ">>> É cachorro, img4\n",
      ">>> É gato, img5\n",
      ">>> É gato, img6\n",
      ">>> É gato, img7\n",
      ">>> É cachorro, img8\n",
      ">>> É cachorro, img9\n",
      ">>> É cachorro, img10\n",
      ">>> É gato, img11\n",
      ">>> É gato, img12\n",
      ">>> É cachorro, img13\n",
      ">>> É cachorro, img14\n",
      ">>> É cachorro, img15\n",
      ">>> É cachorro, img16\n",
      ">>> É gato, img17\n",
      ">>> É cachorro, img18\n",
      ">>> É cachorro, img19\n",
      "=== Errou: 10\n"
     ]
    }
   ],
   "source": [
    "print(\"GATOS\")\n",
    "numImg = 1\n",
    "errou = 0\n",
    "\n",
    "for x in range(1, 20, 1):\n",
    "\n",
    "    string = str(numImg)\n",
    "    \n",
    "    caminhoImg = \"dataset/teste-final/gato/\" + string + \".jpg\"\n",
    "    imagem_teste = image.load_img(caminhoImg, target_size = IMAGE_SIZE)\n",
    "\n",
    "    imagem_teste = image.img_to_array(imagem_teste)\n",
    "    imagem_teste /= 255\n",
    "    imagem_teste = np.expand_dims(imagem_teste, axis = 0)\n",
    "    previsao = classificador.predict(imagem_teste)\n",
    "    previsao = (previsao > 0.5)\n",
    "    \n",
    "    if(previsao[0,0]):\n",
    "        print(\">>> É gato, img\" + string)\n",
    "    else:\n",
    "        print(\">>> É cachorro, img\" + string)\n",
    "        errou = errou+1\n",
    "        \n",
    "    numImg = numImg+1\n",
    "print(\"=== Errou: \" + str(errou))"
   ]
  },
  {
   "cell_type": "code",
   "execution_count": null,
   "metadata": {},
   "outputs": [],
   "source": []
  }
 ],
 "metadata": {
  "kernelspec": {
   "display_name": "Python 3",
   "language": "python",
   "name": "python3"
  },
  "language_info": {
   "codemirror_mode": {
    "name": "ipython",
    "version": 3
   },
   "file_extension": ".py",
   "mimetype": "text/x-python",
   "name": "python",
   "nbconvert_exporter": "python",
   "pygments_lexer": "ipython3",
   "version": "3.8.8"
  }
 },
 "nbformat": 4,
 "nbformat_minor": 2
}
