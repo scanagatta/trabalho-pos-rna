{
 "cells": [
  {
   "cell_type": "code",
   "execution_count": 1,
   "metadata": {},
   "outputs": [],
   "source": [
    "#!pip3 install keras"
   ]
  },
  {
   "cell_type": "code",
   "execution_count": 2,
   "metadata": {},
   "outputs": [],
   "source": [
    "#!pip3 install tensorflow"
   ]
  },
  {
   "cell_type": "code",
   "execution_count": 3,
   "metadata": {},
   "outputs": [],
   "source": [
    "from keras.models import Sequential\n",
    "from keras.layers import Conv2D, MaxPooling2D, Flatten, Dense, Dropout\n",
    "from keras.layers.normalization import BatchNormalization\n",
    "from keras.preprocessing.image import ImageDataGenerator\n",
    "import numpy as np\n",
    "from keras.preprocessing import image"
   ]
  },
  {
   "cell_type": "code",
   "execution_count": 4,
   "metadata": {},
   "outputs": [],
   "source": [
    "IMAGE_WIDTH=180\n",
    "IMAGE_HEIGHT=180\n",
    "IMAGE_SIZE=(IMAGE_WIDTH, IMAGE_HEIGHT)"
   ]
  },
  {
   "cell_type": "code",
   "execution_count": 5,
   "metadata": {},
   "outputs": [],
   "source": [
    "classificador = Sequential()\n",
    "classificador.add(Conv2D(32, (3, 3), activation='relu', kernel_initializer='he_uniform',\n",
    "                padding='same', input_shape=(IMAGE_WIDTH, IMAGE_HEIGHT, 3)))\n",
    "classificador.add(BatchNormalization())\n",
    "classificador.add(MaxPooling2D((4, 4)))\n",
    "classificador.add(Dropout(0.2))  \n",
    "\n",
    "classificador.add(Conv2D(64, (3, 3), activation='relu'))\n",
    "classificador.add(BatchNormalization())\n",
    "classificador.add(MaxPooling2D((3, 3)))\n",
    "classificador.add(Dropout(0.25))\n",
    "\n",
    "classificador.add(Conv2D(128, (3, 3), activation='relu'))\n",
    "classificador.add(BatchNormalization())\n",
    "classificador.add(MaxPooling2D((2, 2)))\n",
    "classificador.add(Dropout(0.25))\n",
    "\n",
    "classificador.add(Flatten())\n",
    "classificador.add(Dense(512, activation='relu'))\n",
    "classificador.add(BatchNormalization())\n",
    "classificador.add(Dropout(0.5))\n",
    "classificador.add(Dense(1, activation='sigmoid')) \n",
    "\n",
    "classificador.compile(optimizer = 'adam', loss = 'binary_crossentropy', metrics = ['accuracy'])"
   ]
  },
  {
   "cell_type": "code",
   "execution_count": 6,
   "metadata": {},
   "outputs": [
    {
     "name": "stdout",
     "output_type": "stream",
     "text": [
      "Model: \"sequential\"\n",
      "_________________________________________________________________\n",
      "Layer (type)                 Output Shape              Param #   \n",
      "=================================================================\n",
      "conv2d (Conv2D)              (None, 180, 180, 32)      896       \n",
      "_________________________________________________________________\n",
      "batch_normalization (BatchNo (None, 180, 180, 32)      128       \n",
      "_________________________________________________________________\n",
      "max_pooling2d (MaxPooling2D) (None, 45, 45, 32)        0         \n",
      "_________________________________________________________________\n",
      "dropout (Dropout)            (None, 45, 45, 32)        0         \n",
      "_________________________________________________________________\n",
      "conv2d_1 (Conv2D)            (None, 43, 43, 64)        18496     \n",
      "_________________________________________________________________\n",
      "batch_normalization_1 (Batch (None, 43, 43, 64)        256       \n",
      "_________________________________________________________________\n",
      "max_pooling2d_1 (MaxPooling2 (None, 14, 14, 64)        0         \n",
      "_________________________________________________________________\n",
      "dropout_1 (Dropout)          (None, 14, 14, 64)        0         \n",
      "_________________________________________________________________\n",
      "conv2d_2 (Conv2D)            (None, 12, 12, 128)       73856     \n",
      "_________________________________________________________________\n",
      "batch_normalization_2 (Batch (None, 12, 12, 128)       512       \n",
      "_________________________________________________________________\n",
      "max_pooling2d_2 (MaxPooling2 (None, 6, 6, 128)         0         \n",
      "_________________________________________________________________\n",
      "dropout_2 (Dropout)          (None, 6, 6, 128)         0         \n",
      "_________________________________________________________________\n",
      "flatten (Flatten)            (None, 4608)              0         \n",
      "_________________________________________________________________\n",
      "dense (Dense)                (None, 512)               2359808   \n",
      "_________________________________________________________________\n",
      "batch_normalization_3 (Batch (None, 512)               2048      \n",
      "_________________________________________________________________\n",
      "dropout_3 (Dropout)          (None, 512)               0         \n",
      "_________________________________________________________________\n",
      "dense_1 (Dense)              (None, 1)                 513       \n",
      "=================================================================\n",
      "Total params: 2,456,513\n",
      "Trainable params: 2,455,041\n",
      "Non-trainable params: 1,472\n",
      "_________________________________________________________________\n"
     ]
    }
   ],
   "source": [
    "classificador.summary()"
   ]
  },
  {
   "cell_type": "code",
   "execution_count": 7,
   "metadata": {},
   "outputs": [
    {
     "name": "stdout",
     "output_type": "stream",
     "text": [
      "Found 4000 images belonging to 2 classes.\n",
      "Found 1000 images belonging to 2 classes.\n"
     ]
    },
    {
     "name": "stderr",
     "output_type": "stream",
     "text": [
      "C:\\Users\\joaos\\anaconda3\\lib\\site-packages\\keras\\engine\\training.py:1915: UserWarning: `Model.fit_generator` is deprecated and will be removed in a future version. Please use `Model.fit`, which supports generators.\n",
      "  warnings.warn('`Model.fit_generator` is deprecated and '\n"
     ]
    },
    {
     "name": "stdout",
     "output_type": "stream",
     "text": [
      "Epoch 1/20\n",
      "200/200 [==============================] - 176s 771ms/step - loss: 1.0225 - accuracy: 0.5917 - val_loss: 0.8758 - val_accuracy: 0.5630\n",
      "Epoch 2/20\n",
      "200/200 [==============================] - 154s 770ms/step - loss: 0.6985 - accuracy: 0.6557 - val_loss: 1.3781 - val_accuracy: 0.5440\n",
      "Epoch 3/20\n",
      "200/200 [==============================] - 150s 752ms/step - loss: 0.6126 - accuracy: 0.6975 - val_loss: 0.7368 - val_accuracy: 0.6920\n",
      "Epoch 4/20\n",
      "200/200 [==============================] - 177s 886ms/step - loss: 0.5589 - accuracy: 0.7171 - val_loss: 0.5412 - val_accuracy: 0.7390\n",
      "Epoch 5/20\n",
      "200/200 [==============================] - 150s 751ms/step - loss: 0.5139 - accuracy: 0.7475 - val_loss: 0.6190 - val_accuracy: 0.7080\n",
      "Epoch 6/20\n",
      "200/200 [==============================] - 147s 732ms/step - loss: 0.5088 - accuracy: 0.7471 - val_loss: 0.5903 - val_accuracy: 0.7310\n",
      "Epoch 7/20\n",
      "200/200 [==============================] - 147s 733ms/step - loss: 0.4945 - accuracy: 0.7620 - val_loss: 0.8393 - val_accuracy: 0.6490\n",
      "Epoch 8/20\n",
      "200/200 [==============================] - 147s 735ms/step - loss: 0.4854 - accuracy: 0.7562 - val_loss: 0.7948 - val_accuracy: 0.6400\n",
      "Epoch 9/20\n",
      "200/200 [==============================] - 146s 731ms/step - loss: 0.4668 - accuracy: 0.7856 - val_loss: 0.6822 - val_accuracy: 0.7130\n",
      "Epoch 10/20\n",
      "200/200 [==============================] - 147s 732ms/step - loss: 0.4482 - accuracy: 0.7918 - val_loss: 0.4847 - val_accuracy: 0.7760\n",
      "Epoch 11/20\n",
      "200/200 [==============================] - 147s 733ms/step - loss: 0.4490 - accuracy: 0.7903 - val_loss: 0.4643 - val_accuracy: 0.7740\n",
      "Epoch 12/20\n",
      "200/200 [==============================] - 147s 734ms/step - loss: 0.4169 - accuracy: 0.8193 - val_loss: 0.4913 - val_accuracy: 0.7780\n",
      "Epoch 13/20\n",
      "200/200 [==============================] - 147s 734ms/step - loss: 0.4137 - accuracy: 0.8097 - val_loss: 0.4263 - val_accuracy: 0.8050\n",
      "Epoch 14/20\n",
      "200/200 [==============================] - 151s 754ms/step - loss: 0.4151 - accuracy: 0.8104 - val_loss: 0.5056 - val_accuracy: 0.7690\n",
      "Epoch 15/20\n",
      "200/200 [==============================] - 148s 741ms/step - loss: 0.4082 - accuracy: 0.8074 - val_loss: 0.4454 - val_accuracy: 0.7930\n",
      "Epoch 16/20\n",
      "200/200 [==============================] - 151s 754ms/step - loss: 0.3896 - accuracy: 0.8231 - val_loss: 0.4264 - val_accuracy: 0.8160\n",
      "Epoch 17/20\n",
      "200/200 [==============================] - 146s 729ms/step - loss: 0.3840 - accuracy: 0.8381 - val_loss: 0.5052 - val_accuracy: 0.7880\n",
      "Epoch 18/20\n",
      "200/200 [==============================] - 147s 733ms/step - loss: 0.3911 - accuracy: 0.8303 - val_loss: 0.4663 - val_accuracy: 0.7950\n",
      "Epoch 19/20\n",
      "200/200 [==============================] - 146s 730ms/step - loss: 0.4219 - accuracy: 0.8162 - val_loss: 0.4720 - val_accuracy: 0.7800\n",
      "Epoch 20/20\n",
      "200/200 [==============================] - 147s 732ms/step - loss: 0.3845 - accuracy: 0.8245 - val_loss: 0.4786 - val_accuracy: 0.7890\n"
     ]
    },
    {
     "data": {
      "text/plain": [
       "<keras.callbacks.History at 0x1d5fe00aa00>"
      ]
     },
     "execution_count": 7,
     "metadata": {},
     "output_type": "execute_result"
    }
   ],
   "source": [
    "\n",
    "gerador_treinamento = ImageDataGenerator(rescale = 1./255,\n",
    "                                         rotation_range = 7,\n",
    "                                         horizontal_flip = True,\n",
    "                                         shear_range = 0.2,\n",
    "                                         height_shift_range = 0.07,\n",
    "                                         zoom_range = 0.2)\n",
    "gerador_teste = ImageDataGenerator(rescale = 1./255)\n",
    "\n",
    "meu_batch_size = 20\n",
    "total_treino = 4000\n",
    "total_teste = 1000\n",
    "\n",
    "base_treinamento = gerador_treinamento.flow_from_directory('dataset/training_set',\n",
    "                                                           target_size = IMAGE_SIZE,\n",
    "                                                           batch_size = meu_batch_size,\n",
    "                                                           class_mode = 'binary')\n",
    "base_teste = gerador_teste.flow_from_directory('dataset/test_set',\n",
    "                                               target_size = IMAGE_SIZE,\n",
    "                                               batch_size = meu_batch_size,\n",
    "                                               class_mode = 'binary')\n",
    "classificador.fit_generator(base_treinamento, steps_per_epoch = total_treino//meu_batch_size,\n",
    "                            epochs = 20, validation_data = base_teste,\n",
    "                            validation_steps = total_teste//meu_batch_size)"
   ]
  },
  {
   "cell_type": "code",
   "execution_count": 12,
   "metadata": {},
   "outputs": [],
   "source": [
    "classificador.save_weights(\"model.h5\")"
   ]
  },
  {
   "cell_type": "code",
   "execution_count": 8,
   "metadata": {},
   "outputs": [
    {
     "data": {
      "text/plain": [
       "{'cachorro': 0, 'gato': 1}"
      ]
     },
     "execution_count": 8,
     "metadata": {},
     "output_type": "execute_result"
    }
   ],
   "source": [
    "base_treinamento.class_indices"
   ]
  },
  {
   "cell_type": "code",
   "execution_count": 9,
   "metadata": {},
   "outputs": [],
   "source": [
    "#VALIDAÇÃO DO MODELO FINAL"
   ]
  },
  {
   "cell_type": "code",
   "execution_count": 10,
   "metadata": {},
   "outputs": [
    {
     "name": "stdout",
     "output_type": "stream",
     "text": [
      "CACHORROS\n",
      ">>> É cachorro, img1\n",
      ">>> É cachorro, img2\n",
      ">>> É gato, img3\n",
      ">>> É cachorro, img4\n",
      ">>> É cachorro, img5\n",
      ">>> É cachorro, img6\n",
      ">>> É cachorro, img7\n",
      ">>> É cachorro, img8\n",
      ">>> É cachorro, img9\n",
      ">>> É gato, img10\n",
      ">>> É cachorro, img11\n",
      ">>> É cachorro, img12\n",
      ">>> É cachorro, img13\n",
      ">>> É cachorro, img14\n",
      ">>> É cachorro, img15\n",
      ">>> É cachorro, img16\n",
      ">>> É cachorro, img17\n",
      ">>> É cachorro, img18\n",
      ">>> É cachorro, img19\n",
      "=== Errou: 2\n"
     ]
    }
   ],
   "source": [
    "print(\"CACHORROS\")\n",
    "numImg = 1\n",
    "errou = 0\n",
    "\n",
    "for x in range(1, 20, 1):\n",
    "\n",
    "    string = str(numImg)\n",
    "    \n",
    "    caminhoImg = \"dataset/teste-final/cachorro/\" + string + \".jpg\"\n",
    "    imagem_teste = image.load_img(caminhoImg, target_size = IMAGE_SIZE)\n",
    "\n",
    "    imagem_teste = image.img_to_array(imagem_teste)\n",
    "    imagem_teste /= 255\n",
    "    imagem_teste = np.expand_dims(imagem_teste, axis = 0)\n",
    "    previsao = classificador.predict(imagem_teste)\n",
    "    previsao = (previsao > 0.5)\n",
    "    \n",
    "    if(previsao[0,0]):\n",
    "        print(\">>> É gato, img\" + string)\n",
    "        errou = errou+1\n",
    "    else:\n",
    "        print(\">>> É cachorro, img\" + string)\n",
    "        \n",
    "    numImg = numImg+1\n",
    "print(\"=== Errou: \" + str(errou))"
   ]
  },
  {
   "cell_type": "code",
   "execution_count": 11,
   "metadata": {},
   "outputs": [
    {
     "name": "stdout",
     "output_type": "stream",
     "text": [
      "GATOS\n",
      ">>> É gato, img1\n",
      ">>> É gato, img2\n",
      ">>> É gato, img3\n",
      ">>> É gato, img4\n",
      ">>> É gato, img5\n",
      ">>> É gato, img6\n",
      ">>> É gato, img7\n",
      ">>> É gato, img8\n",
      ">>> É gato, img9\n",
      ">>> É gato, img10\n",
      ">>> É gato, img11\n",
      ">>> É gato, img12\n",
      ">>> É gato, img13\n",
      ">>> É gato, img14\n",
      ">>> É cachorro, img15\n",
      ">>> É gato, img16\n",
      ">>> É gato, img17\n",
      ">>> É cachorro, img18\n",
      ">>> É gato, img19\n",
      "=== Errou: 2\n"
     ]
    }
   ],
   "source": [
    "print(\"GATOS\")\n",
    "numImg = 1\n",
    "errou = 0\n",
    "\n",
    "for x in range(1, 20, 1):\n",
    "\n",
    "    string = str(numImg)\n",
    "    \n",
    "    caminhoImg = \"dataset/teste-final/gato/\" + string + \".jpg\"\n",
    "    imagem_teste = image.load_img(caminhoImg, target_size = IMAGE_SIZE)\n",
    "\n",
    "    imagem_teste = image.img_to_array(imagem_teste)\n",
    "    imagem_teste /= 255\n",
    "    imagem_teste = np.expand_dims(imagem_teste, axis = 0)\n",
    "    previsao = classificador.predict(imagem_teste)\n",
    "    previsao = (previsao > 0.5)\n",
    "    \n",
    "    if(previsao[0,0]):\n",
    "        print(\">>> É gato, img\" + string)\n",
    "    else:\n",
    "        print(\">>> É cachorro, img\" + string)\n",
    "        errou = errou+1\n",
    "        \n",
    "    numImg = numImg+1\n",
    "print(\"=== Errou: \" + str(errou))"
   ]
  },
  {
   "cell_type": "code",
   "execution_count": null,
   "metadata": {},
   "outputs": [],
   "source": []
  }
 ],
 "metadata": {
  "kernelspec": {
   "display_name": "Python 3",
   "language": "python",
   "name": "python3"
  },
  "language_info": {
   "codemirror_mode": {
    "name": "ipython",
    "version": 3
   },
   "file_extension": ".py",
   "mimetype": "text/x-python",
   "name": "python",
   "nbconvert_exporter": "python",
   "pygments_lexer": "ipython3",
   "version": "3.8.8"
  }
 },
 "nbformat": 4,
 "nbformat_minor": 2
}
