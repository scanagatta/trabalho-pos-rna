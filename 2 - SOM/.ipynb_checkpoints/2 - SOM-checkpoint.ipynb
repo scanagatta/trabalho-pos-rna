{
 "cells": [
  {
   "cell_type": "markdown",
   "metadata": {},
   "source": [
    "# Mapas Auto organizáveis de Kohonen\n",
    "\n",
    "\n",
    "#### Blood Transfusion Service Center Data Set https://archive.ics.uci.edu/ml/datasets/Blood+Transfusion+Service+Center\n",
    "\n",
    "**Informações do conjo de dados:** O conjunto de dados contém 2 saidas (1 stand for donating blood; 0 stands for not donating blood).\n",
    "\n",
    "**Os atributos são:**\n",
    "\n",
    "* R (Recency - months since last donation),\n",
    "* F (Frequency - total number of donation),\n",
    "* M (Monetary - total blood donated in c.c.),\n",
    "* T (Time - months since first donation), and\n",
    "* a binary variable representing whether he/she donated blood in March 2007 (1 stand for donating blood; 0 stands for not donating blood).\n"
   ]
  },
  {
   "cell_type": "markdown",
   "metadata": {},
   "source": [
    "## Importando as bibliotecas"
   ]
  },
  {
   "cell_type": "code",
   "execution_count": 1,
   "metadata": {},
   "outputs": [],
   "source": [
    "#pip install minisom"
   ]
  },
  {
   "cell_type": "code",
   "execution_count": 2,
   "metadata": {},
   "outputs": [],
   "source": [
    "# instalar a biblioteca <minsom> *no Anaconda Prompt digite <> pip install minisom\n",
    "from minisom import MiniSom  \n",
    "import pandas as pd\n",
    "import numpy as np"
   ]
  },
  {
   "cell_type": "markdown",
   "metadata": {},
   "source": [
    "## Carregando os dados"
   ]
  },
  {
   "cell_type": "code",
   "execution_count": 3,
   "metadata": {},
   "outputs": [],
   "source": [
    "base = pd.read_csv('transfusion.csv')"
   ]
  },
  {
   "cell_type": "code",
   "execution_count": 4,
   "metadata": {},
   "outputs": [
    {
     "data": {
      "text/html": [
       "<div>\n",
       "<style scoped>\n",
       "    .dataframe tbody tr th:only-of-type {\n",
       "        vertical-align: middle;\n",
       "    }\n",
       "\n",
       "    .dataframe tbody tr th {\n",
       "        vertical-align: top;\n",
       "    }\n",
       "\n",
       "    .dataframe thead th {\n",
       "        text-align: right;\n",
       "    }\n",
       "</style>\n",
       "<table border=\"1\" class=\"dataframe\">\n",
       "  <thead>\n",
       "    <tr style=\"text-align: right;\">\n",
       "      <th></th>\n",
       "      <th>Recency (months)</th>\n",
       "      <th>Frequency (times)</th>\n",
       "      <th>Monetary (c.c. blood)</th>\n",
       "      <th>Time (months)</th>\n",
       "      <th>whether he/she donated blood in March 2007</th>\n",
       "    </tr>\n",
       "  </thead>\n",
       "  <tbody>\n",
       "    <tr>\n",
       "      <th>0</th>\n",
       "      <td>2</td>\n",
       "      <td>50</td>\n",
       "      <td>12500</td>\n",
       "      <td>98</td>\n",
       "      <td>1</td>\n",
       "    </tr>\n",
       "    <tr>\n",
       "      <th>1</th>\n",
       "      <td>0</td>\n",
       "      <td>13</td>\n",
       "      <td>3250</td>\n",
       "      <td>28</td>\n",
       "      <td>1</td>\n",
       "    </tr>\n",
       "    <tr>\n",
       "      <th>2</th>\n",
       "      <td>1</td>\n",
       "      <td>16</td>\n",
       "      <td>4000</td>\n",
       "      <td>35</td>\n",
       "      <td>1</td>\n",
       "    </tr>\n",
       "    <tr>\n",
       "      <th>3</th>\n",
       "      <td>2</td>\n",
       "      <td>20</td>\n",
       "      <td>5000</td>\n",
       "      <td>45</td>\n",
       "      <td>1</td>\n",
       "    </tr>\n",
       "    <tr>\n",
       "      <th>4</th>\n",
       "      <td>1</td>\n",
       "      <td>24</td>\n",
       "      <td>6000</td>\n",
       "      <td>77</td>\n",
       "      <td>0</td>\n",
       "    </tr>\n",
       "  </tbody>\n",
       "</table>\n",
       "</div>"
      ],
      "text/plain": [
       "   Recency (months)  Frequency (times)  Monetary (c.c. blood)  Time (months)  \\\n",
       "0                 2                 50                  12500             98   \n",
       "1                 0                 13                   3250             28   \n",
       "2                 1                 16                   4000             35   \n",
       "3                 2                 20                   5000             45   \n",
       "4                 1                 24                   6000             77   \n",
       "\n",
       "   whether he/she donated blood in March 2007  \n",
       "0                                           1  \n",
       "1                                           1  \n",
       "2                                           1  \n",
       "3                                           1  \n",
       "4                                           0  "
      ]
     },
     "execution_count": 4,
     "metadata": {},
     "output_type": "execute_result"
    }
   ],
   "source": [
    "base.head()"
   ]
  },
  {
   "cell_type": "code",
   "execution_count": 5,
   "metadata": {},
   "outputs": [
    {
     "data": {
      "text/html": [
       "<div>\n",
       "<style scoped>\n",
       "    .dataframe tbody tr th:only-of-type {\n",
       "        vertical-align: middle;\n",
       "    }\n",
       "\n",
       "    .dataframe tbody tr th {\n",
       "        vertical-align: top;\n",
       "    }\n",
       "\n",
       "    .dataframe thead th {\n",
       "        text-align: right;\n",
       "    }\n",
       "</style>\n",
       "<table border=\"1\" class=\"dataframe\">\n",
       "  <thead>\n",
       "    <tr style=\"text-align: right;\">\n",
       "      <th></th>\n",
       "      <th>Recency (months)</th>\n",
       "      <th>Frequency (times)</th>\n",
       "      <th>Monetary (c.c. blood)</th>\n",
       "      <th>Time (months)</th>\n",
       "      <th>whether he/she donated blood in March 2007</th>\n",
       "    </tr>\n",
       "  </thead>\n",
       "  <tbody>\n",
       "    <tr>\n",
       "      <th>count</th>\n",
       "      <td>748.000000</td>\n",
       "      <td>748.000000</td>\n",
       "      <td>748.000000</td>\n",
       "      <td>748.000000</td>\n",
       "      <td>748.000000</td>\n",
       "    </tr>\n",
       "    <tr>\n",
       "      <th>mean</th>\n",
       "      <td>9.506684</td>\n",
       "      <td>5.514706</td>\n",
       "      <td>1378.676471</td>\n",
       "      <td>34.282086</td>\n",
       "      <td>0.237968</td>\n",
       "    </tr>\n",
       "    <tr>\n",
       "      <th>std</th>\n",
       "      <td>8.095396</td>\n",
       "      <td>5.839307</td>\n",
       "      <td>1459.826781</td>\n",
       "      <td>24.376714</td>\n",
       "      <td>0.426124</td>\n",
       "    </tr>\n",
       "    <tr>\n",
       "      <th>min</th>\n",
       "      <td>0.000000</td>\n",
       "      <td>1.000000</td>\n",
       "      <td>250.000000</td>\n",
       "      <td>2.000000</td>\n",
       "      <td>0.000000</td>\n",
       "    </tr>\n",
       "    <tr>\n",
       "      <th>25%</th>\n",
       "      <td>2.750000</td>\n",
       "      <td>2.000000</td>\n",
       "      <td>500.000000</td>\n",
       "      <td>16.000000</td>\n",
       "      <td>0.000000</td>\n",
       "    </tr>\n",
       "    <tr>\n",
       "      <th>50%</th>\n",
       "      <td>7.000000</td>\n",
       "      <td>4.000000</td>\n",
       "      <td>1000.000000</td>\n",
       "      <td>28.000000</td>\n",
       "      <td>0.000000</td>\n",
       "    </tr>\n",
       "    <tr>\n",
       "      <th>75%</th>\n",
       "      <td>14.000000</td>\n",
       "      <td>7.000000</td>\n",
       "      <td>1750.000000</td>\n",
       "      <td>50.000000</td>\n",
       "      <td>0.000000</td>\n",
       "    </tr>\n",
       "    <tr>\n",
       "      <th>max</th>\n",
       "      <td>74.000000</td>\n",
       "      <td>50.000000</td>\n",
       "      <td>12500.000000</td>\n",
       "      <td>98.000000</td>\n",
       "      <td>1.000000</td>\n",
       "    </tr>\n",
       "  </tbody>\n",
       "</table>\n",
       "</div>"
      ],
      "text/plain": [
       "       Recency (months)  Frequency (times)  Monetary (c.c. blood)  \\\n",
       "count        748.000000         748.000000             748.000000   \n",
       "mean           9.506684           5.514706            1378.676471   \n",
       "std            8.095396           5.839307            1459.826781   \n",
       "min            0.000000           1.000000             250.000000   \n",
       "25%            2.750000           2.000000             500.000000   \n",
       "50%            7.000000           4.000000            1000.000000   \n",
       "75%           14.000000           7.000000            1750.000000   \n",
       "max           74.000000          50.000000           12500.000000   \n",
       "\n",
       "       Time (months)  whether he/she donated blood in March 2007  \n",
       "count     748.000000                                  748.000000  \n",
       "mean       34.282086                                    0.237968  \n",
       "std        24.376714                                    0.426124  \n",
       "min         2.000000                                    0.000000  \n",
       "25%        16.000000                                    0.000000  \n",
       "50%        28.000000                                    0.000000  \n",
       "75%        50.000000                                    0.000000  \n",
       "max        98.000000                                    1.000000  "
      ]
     },
     "execution_count": 5,
     "metadata": {},
     "output_type": "execute_result"
    }
   ],
   "source": [
    "base.describe()"
   ]
  },
  {
   "cell_type": "markdown",
   "metadata": {},
   "source": [
    "### Camada de entrada e rótulos para validação"
   ]
  },
  {
   "cell_type": "code",
   "execution_count": 6,
   "metadata": {},
   "outputs": [],
   "source": [
    "X = base.iloc[:,0:4].values\n",
    "y = base.iloc[:,4].values"
   ]
  },
  {
   "cell_type": "markdown",
   "metadata": {},
   "source": [
    "### Normalização dos dados"
   ]
  },
  {
   "cell_type": "code",
   "execution_count": 7,
   "metadata": {},
   "outputs": [],
   "source": [
    "from sklearn.preprocessing import MinMaxScaler\n",
    "normalizador = MinMaxScaler(feature_range = (0,1))\n",
    "X = normalizador.fit_transform(X)"
   ]
  },
  {
   "cell_type": "markdown",
   "metadata": {},
   "source": [
    "### Construção do SOM"
   ]
  },
  {
   "cell_type": "markdown",
   "metadata": {},
   "source": [
    "O algoritmo de Kohonen foi desenvolvido por Teuvo Kohonen em 1982, sendo considerado relativamente simples e com a capacidade de organizar dimensionalmente dados complexos em grupos (clusters), de acordo com suas relações. Este método solicita apenas os parâmetros de entrada, mostrando-se ideal para problemas onde os padrões são desconhecidos ou indeterminados.\n",
    "<a href='https://pt.wikipedia.org/wiki/Mapas_de_Kohonen#/media/Ficheiro:TrainSOM.gif'>  <img src='440px-TrainSOM.gif' /></a>\n"
   ]
  },
  {
   "cell_type": "code",
   "execution_count": 8,
   "metadata": {},
   "outputs": [],
   "source": [
    "som = MiniSom(x = 10, y = 10, input_len = 4, sigma = 1.0, learning_rate = 0.9, random_seed = 2)\n",
    "som.random_weights_init(X)\n",
    "som.train_random(data = X, num_iteration = 100000)"
   ]
  },
  {
   "cell_type": "markdown",
   "metadata": {},
   "source": [
    "#### Topologia da Rede"
   ]
  },
  {
   "cell_type": "markdown",
   "metadata": {},
   "source": [
    "Os SOMs  têm duas camadas, a primeira é a camada de entrada e a segunda é a camada de saída ou o mapa de características. Ao contrário de outros tipos de RNA, SOM não tem função de ativação em neurônios, passamos pesos diretamente para a camada de saída sem fazer nada. Cada neurônio em um SOM é atribuído a um vetor de peso com a mesma dimensionalidade d do espaço de entrada. <a href='https://towardsdatascience.com/analyzing-climate-patterns-with-self-organizing-maps-soms-8d4ef322705b'> <img src='Mapa.png'/> </a>"
   ]
  },
  {
   "cell_type": "code",
   "execution_count": 9,
   "metadata": {},
   "outputs": [
    {
     "data": {
      "text/plain": [
       "array([[0.95308332, 0.92638062, 0.82077432, 0.70449729, 0.65512297,\n",
       "        0.57863167, 0.53047808, 0.57145195, 0.64146303, 0.96447032],\n",
       "       [0.93230148, 0.85280354, 0.78666934, 0.71192661, 0.66001395,\n",
       "        0.64269709, 0.44129782, 0.45749685, 0.43095822, 0.81138347],\n",
       "       [0.8777442 , 0.80783085, 0.72958362, 0.68350136, 0.58128492,\n",
       "        0.53336676, 0.47891242, 0.38273897, 0.28392948, 0.29868624],\n",
       "       [0.8634873 , 0.81171197, 0.67867289, 0.58777692, 0.53752124,\n",
       "        0.49164027, 0.40579923, 0.2743216 , 0.16751434, 0.11974465],\n",
       "       [0.81143236, 0.77636596, 0.70511618, 0.57985663, 0.54782725,\n",
       "        0.45315668, 0.35898008, 0.33710792, 0.16079638, 0.0310486 ],\n",
       "       [0.82822817, 0.73812046, 0.66293858, 0.65605491, 0.55135992,\n",
       "        0.41909167, 0.38067758, 0.30997758, 0.12741945, 0.15104787],\n",
       "       [0.83775184, 0.74905537, 0.67931089, 0.55660168, 0.5226698 ,\n",
       "        0.4624101 , 0.32838623, 0.34552885, 0.38619454, 0.21676291],\n",
       "       [0.82081111, 0.69929961, 0.61797466, 0.54339712, 0.49899998,\n",
       "        0.44596563, 0.35508071, 0.31829361, 0.22729636, 0.1699255 ],\n",
       "       [0.78806774, 0.76901569, 0.64756687, 0.60345189, 0.49517997,\n",
       "        0.40474012, 0.31490155, 0.21822505, 0.23092932, 0.16009067],\n",
       "       [0.77626944, 0.73046587, 0.66139896, 0.73191695, 0.92928639,\n",
       "        0.49187876, 0.28878786, 0.27269884, 0.25369628, 0.32045706]])"
      ]
     },
     "execution_count": 9,
     "metadata": {},
     "output_type": "execute_result"
    }
   ],
   "source": [
    "som._activation_map"
   ]
  },
  {
   "cell_type": "markdown",
   "metadata": {},
   "source": [
    "#### Pesos do SOM"
   ]
  },
  {
   "cell_type": "code",
   "execution_count": 10,
   "metadata": {},
   "outputs": [
    {
     "data": {
      "text/plain": [
       "array([[[2.73276252e-02, 2.26910149e-04, 2.26910149e-04, 3.08791521e-04],\n",
       "        [3.75311949e-02, 2.32422821e-02, 2.32422821e-02, 1.77011345e-02],\n",
       "        [4.58961400e-02, 7.89026450e-02, 7.89026450e-02, 1.06275382e-01],\n",
       "        [1.42707159e-01, 1.90229584e-01, 1.90229584e-01, 2.03670567e-01],\n",
       "        [2.85454440e-02, 1.90371093e-01, 1.90371093e-01, 2.54753525e-01],\n",
       "        [2.71198389e-02, 2.44177791e-01, 2.44177791e-01, 3.34370322e-01],\n",
       "        [4.87904268e-02, 2.78181845e-01, 2.78181845e-01, 3.88246825e-01],\n",
       "        [4.13273335e-02, 4.04747796e-01, 4.04747796e-01, 4.13110958e-01],\n",
       "        [4.83064718e-02, 6.55589770e-01, 6.55589770e-01, 9.46412616e-01],\n",
       "        [4.15732443e-02, 8.81950232e-01, 8.81950232e-01, 9.97792668e-01]],\n",
       "\n",
       "       [[5.37062273e-02, 3.04331643e-05, 3.04331643e-05, 2.06765142e-02],\n",
       "        [2.84579097e-02, 2.10436019e-02, 2.10436019e-02, 9.63771873e-02],\n",
       "        [4.32927073e-02, 9.48601962e-02, 9.48601962e-02, 1.36601949e-01],\n",
       "        [4.42280514e-02, 1.16961285e-01, 1.16961285e-01, 2.06876857e-01],\n",
       "        [5.56809288e-02, 1.10243106e-01, 1.10243106e-01, 2.60887467e-01],\n",
       "        [4.52591859e-02, 1.65063253e-01, 1.65063253e-01, 2.67829524e-01],\n",
       "        [4.53560098e-02, 2.44744938e-01, 2.44744938e-01, 4.71494534e-01],\n",
       "        [8.46080692e-02, 4.31353706e-01, 4.31353706e-01, 5.80829590e-01],\n",
       "        [2.23732211e-02, 4.89664120e-01, 4.89664120e-01, 7.74362362e-01],\n",
       "        [3.01088863e-01, 7.55146194e-01, 7.55146194e-01, 9.97677266e-01]],\n",
       "\n",
       "       [[6.07771562e-02, 1.78638797e-02, 1.78638797e-02, 6.96275334e-02],\n",
       "        [2.91902510e-02, 4.61343872e-02, 4.61343872e-02, 1.32674999e-01],\n",
       "        [2.98103260e-02, 3.27177215e-02, 3.27177215e-02, 2.21148494e-01],\n",
       "        [4.09991955e-02, 7.44464924e-02, 7.44464924e-02, 2.49979403e-01],\n",
       "        [4.39796927e-02, 1.19802276e-01, 1.19802276e-01, 3.39571721e-01],\n",
       "        [4.32303005e-02, 1.51003889e-01, 1.51003889e-01, 3.80695709e-01],\n",
       "        [1.97544994e-02, 1.91899467e-01, 1.91899467e-01, 4.33535232e-01],\n",
       "        [2.71384750e-02, 2.36918269e-01, 2.36918269e-01, 5.32375289e-01],\n",
       "        [5.26328461e-02, 3.31570876e-01, 3.31570876e-01, 6.90963803e-01],\n",
       "        [1.30111861e-01, 4.11238548e-01, 4.11238548e-01, 9.52337047e-01]],\n",
       "\n",
       "       [[1.48196451e-01, 8.01527787e-04, 8.01527787e-04, 9.37898103e-02],\n",
       "        [9.48168309e-02, 3.50088362e-02, 3.50088362e-02, 1.30553507e-01],\n",
       "        [6.32740710e-02, 3.39955129e-02, 3.39955129e-02, 2.72406692e-01],\n",
       "        [3.44866113e-02, 7.05670474e-02, 7.05670474e-02, 3.52881724e-01],\n",
       "        [4.68789212e-02, 5.73148445e-02, 5.73148445e-02, 4.12720555e-01],\n",
       "        [3.42729131e-02, 9.30901344e-02, 9.30901344e-02, 4.44261664e-01],\n",
       "        [4.29744126e-02, 1.59112259e-01, 1.59112259e-01, 5.08803295e-01],\n",
       "        [6.32087314e-02, 1.91713240e-01, 1.91713240e-01, 6.34291703e-01],\n",
       "        [2.86358772e-02, 2.41440219e-01, 2.41440219e-01, 7.61622558e-01],\n",
       "        [3.36605007e-02, 2.53889488e-01, 2.53889488e-01, 9.80874069e-01]],\n",
       "\n",
       "       [[1.52783058e-01, 3.07057280e-02, 3.07057280e-02, 1.34940614e-01],\n",
       "        [1.36512970e-01, 6.32631958e-02, 6.32631958e-02, 1.57032212e-01],\n",
       "        [1.36357439e-01, 2.42655519e-02, 2.42655519e-02, 2.49913917e-01],\n",
       "        [1.46283204e-01, 3.40603974e-02, 3.40603974e-02, 3.81133287e-01],\n",
       "        [1.42485159e-01, 8.19262919e-02, 8.19262919e-02, 3.88584727e-01],\n",
       "        [7.75230676e-02, 2.14788135e-02, 2.14788135e-02, 5.34266182e-01],\n",
       "        [2.47957133e-02, 1.22939250e-01, 1.22939250e-01, 5.73343640e-01],\n",
       "        [4.82889502e-02, 9.58443546e-02, 9.58443546e-02, 6.09489288e-01],\n",
       "        [4.18474070e-02, 1.24821251e-01, 1.24821251e-01, 8.04580279e-01],\n",
       "        [8.24477440e-02, 2.14321857e-01, 2.14321857e-01, 8.95521794e-01]],\n",
       "\n",
       "       [[1.89278051e-01, 2.03863543e-02, 2.03863543e-02, 1.25539399e-01],\n",
       "        [2.04130284e-01, 4.90581306e-02, 4.90581306e-02, 2.10003513e-01],\n",
       "        [1.50157573e-01, 1.01814049e-01, 1.01814049e-01, 2.61670292e-01],\n",
       "        [1.94931110e-01, 1.38209546e-01, 1.38209546e-01, 2.64640799e-01],\n",
       "        [1.35338094e-01, 1.47766007e-01, 1.47766007e-01, 3.62195929e-01],\n",
       "        [8.41884981e-02, 1.04286904e-01, 1.04286904e-01, 5.11773685e-01],\n",
       "        [1.18978799e-01, 1.75001708e-01, 1.75001708e-01, 5.28586727e-01],\n",
       "        [1.72688393e-01, 1.70428416e-01, 1.70428416e-01, 6.10070352e-01],\n",
       "        [4.78499047e-02, 2.06592863e-01, 2.06592863e-01, 7.87772850e-01],\n",
       "        [4.21378533e-02, 2.97586767e-01, 2.97586767e-01, 8.57000655e-01]],\n",
       "\n",
       "       [[1.89387015e-01, 2.46681535e-04, 2.46681535e-04, 1.25388191e-01],\n",
       "        [1.53280281e-01, 2.20840239e-02, 2.20840239e-02, 2.05255220e-01],\n",
       "        [1.77070198e-01, 6.72011048e-02, 6.72011048e-02, 2.60348695e-01],\n",
       "        [2.14286470e-01, 1.14629584e-01, 1.14629584e-01, 3.77595150e-01],\n",
       "        [1.64102097e-01, 2.00577504e-01, 2.00577504e-01, 3.88246270e-01],\n",
       "        [1.66539951e-01, 1.36301549e-01, 1.36301549e-01, 4.59642023e-01],\n",
       "        [1.63049839e-01, 1.17666065e-01, 1.17666065e-01, 6.09238053e-01],\n",
       "        [1.93711347e-01, 2.38136280e-01, 2.38136280e-01, 5.78764708e-01],\n",
       "        [2.99364919e-01, 3.04053951e-01, 3.04053951e-01, 6.10908829e-01],\n",
       "        [1.65623025e-01, 2.97303654e-01, 2.97303654e-01, 7.49532318e-01]],\n",
       "\n",
       "       [[2.16624604e-01, 2.11192273e-03, 2.11192273e-03, 1.46476329e-01],\n",
       "        [1.97564703e-01, 2.55914014e-02, 2.55914014e-02, 2.62278276e-01],\n",
       "        [1.88288954e-01, 5.59777157e-02, 5.59777157e-02, 3.32451688e-01],\n",
       "        [2.12216531e-01, 5.10948456e-02, 5.10948456e-02, 4.21858012e-01],\n",
       "        [3.05833699e-01, 1.17017583e-01, 1.17017583e-01, 4.71257211e-01],\n",
       "        [1.92583319e-01, 7.48166462e-02, 7.48166462e-02, 5.11452984e-01],\n",
       "        [1.51981177e-01, 6.48626588e-02, 6.48626588e-02, 6.16378912e-01],\n",
       "        [2.95844369e-01, 1.27836122e-01, 1.27836122e-01, 6.84478514e-01],\n",
       "        [3.07311567e-01, 2.59200267e-01, 2.59200267e-01, 9.24661834e-01],\n",
       "        [1.96359422e-01, 2.98152592e-01, 2.98152592e-01, 8.77616040e-01]],\n",
       "\n",
       "       [[2.83162005e-01, 1.36777283e-04, 1.36777283e-04, 1.97514440e-01],\n",
       "        [2.92269322e-01, 2.01862650e-02, 2.01862650e-02, 2.10064085e-01],\n",
       "        [2.81838586e-01, 3.44755990e-02, 3.44755990e-02, 3.34629389e-01],\n",
       "        [2.85315068e-01, 3.53436672e-02, 3.53436672e-02, 3.85832016e-01],\n",
       "        [2.94128004e-01, 3.46099538e-02, 3.46099538e-02, 5.21609490e-01],\n",
       "        [2.91334040e-01, 5.29880341e-02, 5.29880341e-02, 6.24381937e-01],\n",
       "        [2.34037749e-01, 6.45320489e-02, 6.45320489e-02, 7.04333128e-01],\n",
       "        [1.74151018e-01, 1.16043746e-01, 1.16043746e-01, 7.45652344e-01],\n",
       "        [2.86819544e-01, 1.15936999e-01, 1.15936999e-01, 8.77285107e-01],\n",
       "        [2.23070615e-01, 1.39253223e-01, 1.39253223e-01, 9.33035996e-01]],\n",
       "\n",
       "       [[3.09040029e-01, 4.16964870e-04, 4.16964870e-04, 2.18028523e-01],\n",
       "        [2.94074537e-01, 2.84443076e-02, 2.84443076e-02, 2.48913555e-01],\n",
       "        [3.12202999e-01, 4.25889379e-02, 4.25889379e-02, 3.24927896e-01],\n",
       "        [5.15788775e-01, 1.03348743e-03, 1.03348743e-03, 3.81044527e-01],\n",
       "        [9.60946135e-01, 1.48284800e-03, 1.48284800e-03, 7.30421472e-01],\n",
       "        [4.49221257e-01, 4.07983354e-02, 4.07983354e-02, 6.55527486e-01],\n",
       "        [1.48619636e-01, 3.96132610e-02, 3.96132610e-02, 7.43830681e-01],\n",
       "        [4.85654717e-02, 6.07100549e-02, 6.07100549e-02, 7.29798429e-01],\n",
       "        [2.07521326e-01, 4.73329788e-02, 4.73329788e-02, 8.56560214e-01],\n",
       "        [3.08376620e-01, 3.55646987e-02, 3.55646987e-02, 8.92319568e-01]]])"
      ]
     },
     "execution_count": 10,
     "metadata": {},
     "output_type": "execute_result"
    }
   ],
   "source": [
    "som._weights"
   ]
  },
  {
   "cell_type": "markdown",
   "metadata": {},
   "source": [
    "## Visualizção dos Dados"
   ]
  },
  {
   "cell_type": "markdown",
   "metadata": {},
   "source": [
    "### Visualização de quantas vezes determinado neurônio foi ativado"
   ]
  },
  {
   "cell_type": "markdown",
   "metadata": {},
   "source": [
    "**Competição:**\n",
    "Como dissemos antes, a cada neurônio em um SOM é atribuído um vetor de peso com a mesma dimensionalidade do espaço de entrada.\n",
    "No exemplo abaixo, em cada neurônio da camada de saída teremos um vetor com dimensão n.\n",
    "Calculamos a distância entre cada neurônio (neurônio da camada de saída) e os dados de entrada, e o neurônio com a menor distância será o vencedor da competição. \n",
    "\n",
    "A métrica euclidiana ***dj*** é comumente usada para medir distâncias: $$\\ d_j =\\sum_{i=1}^n(x_i-w_{ij})^2$$\n",
    "\n",
    "<a href=https://towardsdatascience.com/self-organizing-maps-1b7d2a84e065> <img src='competicao.png'/> </a>\n"
   ]
  },
  {
   "cell_type": "code",
   "execution_count": 11,
   "metadata": {},
   "outputs": [
    {
     "data": {
      "text/plain": [
       "array([[34., 25.,  6.,  2.,  6.,  5.,  4.,  3.,  2.,  5.],\n",
       "       [35., 15., 15.,  6., 13., 10.,  5.,  3.,  3.,  1.],\n",
       "       [ 3., 19., 10., 13., 11.,  5.,  5.,  4.,  8.,  1.],\n",
       "       [22.,  4.,  6., 14.,  7., 10.,  9.,  5.,  2.,  5.],\n",
       "       [ 9.,  5.,  5.,  4.,  7.,  8.,  5.,  6.,  5.,  5.],\n",
       "       [10., 10.,  4.,  5.,  7.,  5.,  6.,  2.,  6.,  4.],\n",
       "       [16.,  6., 12.,  9.,  5.,  8.,  5.,  6.,  4.,  7.],\n",
       "       [19.,  6., 13.,  6.,  5.,  6.,  9.,  3.,  2.,  5.],\n",
       "       [16.,  8.,  5.,  9.,  5.,  4.,  3.,  9.,  2.,  4.],\n",
       "       [17.,  9.,  3.,  4.,  2.,  1.,  4.,  5.,  4.,  3.]])"
      ]
     },
     "execution_count": 11,
     "metadata": {},
     "output_type": "execute_result"
    }
   ],
   "source": [
    "q = som.activation_response(X)\n",
    "q"
   ]
  },
  {
   "cell_type": "markdown",
   "metadata": {},
   "source": [
    "\n",
    "### MID - distância média entre neurônios"
   ]
  },
  {
   "cell_type": "code",
   "execution_count": 12,
   "metadata": {},
   "outputs": [
    {
     "data": {
      "text/plain": [
       "<matplotlib.colorbar.Colorbar at 0x274bf5bed90>"
      ]
     },
     "execution_count": 12,
     "metadata": {},
     "output_type": "execute_result"
    },
    {
     "data": {
      "image/png": "[encoded data removed]",
      "text/plain": [
       "<Figure size 432x288 with 2 Axes>"
      ]
     },
     "metadata": {
      "needs_background": "light"
     },
     "output_type": "display_data"
    }
   ],
   "source": [
    "from matplotlib.pylab import pcolor, colorbar, plot, plt\n",
    "pcolor(som.distance_map().T)\n",
    "# MID - mean inter neuron distance\n",
    "colorbar()"
   ]
  },
  {
   "cell_type": "markdown",
   "metadata": {},
   "source": [
    "### Regiões de ativação (classe)"
   ]
  },
  {
   "cell_type": "code",
   "execution_count": 13,
   "metadata": {},
   "outputs": [],
   "source": [
    "markers = ['o', 's']\n",
    "color = ['r', 'g']\n",
    "y[y == 0] = 0\n",
    "y[y == 1] = 1"
   ]
  },
  {
   "cell_type": "code",
   "execution_count": 14,
   "metadata": {
    "scrolled": true
   },
   "outputs": [
    {
     "data": {
      "image/png": "[encoded data removed]",
      "text/plain": [
       "<Figure size 432x288 with 1 Axes>"
      ]
     },
     "metadata": {
      "needs_background": "light"
     },
     "output_type": "display_data"
    }
   ],
   "source": [
    "for i, x in enumerate(X):\n",
    "    #print(y[i])\n",
    "    #print(x)\n",
    "    w = som.winner(x)\n",
    "    #print(w)\n",
    "    plot(w[0] + 0.5, w[1] + 0.5, markers[y[i]],\n",
    "         markerfacecolor = 'None', markersize = 10,\n",
    "         markeredgecolor = color[y[i]], markeredgewidth = 2)"
   ]
  },
  {
   "cell_type": "code",
   "execution_count": 15,
   "metadata": {},
   "outputs": [
    {
     "name": "stdout",
     "output_type": "stream",
     "text": [
      "(1, 1)\n"
     ]
    }
   ],
   "source": [
    "w = som.winner(X[148])  #Características do vinho da 3 linha do dataset ativa o neurônio representado pelos índices de w\n",
    "print(w)"
   ]
  },
  {
   "cell_type": "code",
   "execution_count": 16,
   "metadata": {},
   "outputs": [
    {
     "data": {
      "image/png": "[encoded data removed]",
      "text/plain": [
       "<Figure size 576x360 with 2 Axes>"
      ]
     },
     "metadata": {
      "needs_background": "light"
     },
     "output_type": "display_data"
    }
   ],
   "source": [
    "import matplotlib.patches as mpatches\n",
    "red_patch = mpatches.Patch(color='red', label='no')\n",
    "green_patch = mpatches.Patch(color='green', label='yes')\n",
    "\n",
    "\n",
    "plt.figure(figsize=(8,5))\n",
    "plt.title('SOM')\n",
    "plt.pcolor(som.distance_map().T) # distance map as background\n",
    "plt.colorbar()\n",
    "\n",
    "for cnt,xx in enumerate(X):\n",
    "    w = som.winner(xx) # getting the winner\n",
    "    plt.plot(w[0]+.5,w[1]+.5,markers[y[cnt]],markerfacecolor='None',\n",
    "             markeredgecolor=color[y[cnt]],markersize=12,markeredgewidth=2)\n",
    "    \n",
    "plt.axis([0,som.get_weights().shape[0],0,som.get_weights().shape[1]])\n",
    "plt.legend(handles=[red_patch,green_patch])\n",
    "plt.show() # show the figure"
   ]
  },
  {
   "cell_type": "code",
   "execution_count": null,
   "metadata": {},
   "outputs": [],
   "source": []
  }
 ],
 "metadata": {
  "interpreter": {
   "hash": "a67857f92461b129f3b9a152fcbaf1ad64b1dc2056f1f163b604afeeee1c9393"
  },
  "kernelspec": {
   "display_name": "Python 3",
   "language": "python",
   "name": "python3"
  },
  "language_info": {
   "codemirror_mode": {
    "name": "ipython",
    "version": 3
   },
   "file_extension": ".py",
   "mimetype": "text/x-python",
   "name": "python",
   "nbconvert_exporter": "python",
   "pygments_lexer": "ipython3",
   "version": "3.8.8"
  }
 },
 "nbformat": 4,
 "nbformat_minor": 2
}
